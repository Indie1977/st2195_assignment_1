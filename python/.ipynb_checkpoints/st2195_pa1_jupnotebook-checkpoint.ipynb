{
 "cells": [
  {
   "cell_type": "markdown",
   "metadata": {},
   "source": [
    "# Programming for Data Science - Practice Assignment 1 - Part 4\n",
    "\n",
    "** This is a Jupyter Notebook, created for my first practice assignment. Object is to...**\n",
    "* Create a Jupyter Notebook\n",
    "* Add a few introductory paragraphs\n",
    "* Add python code as completed in part 3 of practice assignment 1\n",
    "* Git stage, commit and push to github remote repository\n",
    "\n",
    "Below is the python code per part 3"
   ]
  },
  {
   "cell_type": "code",
   "execution_count": 2,
   "metadata": {},
   "outputs": [
    {
     "name": "stdout",
     "output_type": "stream",
     "text": [
      "[1, 2, 3, 4, 5, 6, 7, 8, 9, 10]\n"
     ]
    }
   ],
   "source": [
    "# Programming for Data Science - Practice Assigment 1\n",
    "a = range(1,11)\n",
    "print(list(a))"
   ]
  },
  {
   "cell_type": "markdown",
   "metadata": {},
   "source": [
    "### This is the end of the notebook and assignment"
   ]
  }
 ],
 "metadata": {
  "interpreter": {
   "hash": "5ef65c5a5ebf4ecdcc0c5c6ce2d0175ccbade643e75aebc5b534f8616f1834f3"
  },
  "kernelspec": {
   "display_name": "Python 3 (ipykernel)",
   "language": "python",
   "name": "python3"
  },
  "language_info": {
   "codemirror_mode": {
    "name": "ipython",
    "version": 3
   },
   "file_extension": ".py",
   "mimetype": "text/x-python",
   "name": "python",
   "nbconvert_exporter": "python",
   "pygments_lexer": "ipython3",
   "version": "3.7.1"
  }
 },
 "nbformat": 4,
 "nbformat_minor": 2
}
